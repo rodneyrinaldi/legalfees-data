{
 "cells": [
  {
   "cell_type": "code",
   "execution_count": 2,
   "metadata": {},
   "outputs": [
    {
     "data": {
      "text/plain": [
       "<pymongo.results.InsertManyResult at 0x1b0b6d3e830>"
      ]
     },
     "execution_count": 2,
     "metadata": {},
     "output_type": "execute_result"
    }
   ],
   "source": [
    "import pandas as pd\n",
    "import numpy as np\n",
    "import tabula\n",
    "import pymongo\n",
    "import json\n",
    "import os\n",
    "\n",
    "from dotenv import load_dotenv\n",
    "load_dotenv()\n",
    "\n",
    "dbuser = \"backend\"\n",
    "dbpass = os.environ[\"backend\"]\n",
    "dbconn = os.environ[\"connpython\"]\n",
    "origin = os.environ[\"origin\"]\n",
    "\n",
    "tabs = tabula.read_pdf(origin, pages=\"5\", lattice=True, multiple_tables=True, java_options=\"-Dfile.encoding=UTF8\",)\n",
    "print(f\"Found {len(tabs)} tables\")\n",
    "\n",
    "#---\n",
    "\n",
    "df = tabs[0]\n",
    "cid = list(df.columns.values)[0]\n",
    "cname = list(df.columns.values)[1]\n",
    "\n",
    "df.columns.values[0] = \"Codigo\"\n",
    "df.columns.values[1] = \"Atividade\"\n",
    "df.columns.values[2] = \"Valor\"\n",
    "df.columns.values[3] = \"Porc\"\n",
    "df[\"Classe\"] = cname\n",
    "df[\"Subclasse\"] = \"\"\n",
    "\n",
    "df['Codigo'] = df['Codigo'].fillna(\"\")\n",
    "df['Valor'] = df['Valor'].fillna(\"\")\n",
    "df['Porc'] = df['Porc'].fillna(\"\")\n",
    "\n",
    "doc = df.to_json(orient = \"records\")\n",
    "doc = json.loads(doc)\n",
    "\n",
    "conn = dbconn.replace(\"<username>\", dbuser).replace(\"<password>\", dbpass)\n",
    "rs = pymongo.MongoClient(conn)\n",
    "\n",
    "db = rs.legalfees\n",
    "col = db.fees\n",
    "col.insert_many(doc)\n",
    "\n",
    "display(df)"
   ]
  },
  {
   "cell_type": "code",
   "execution_count": 3,
   "metadata": {},
   "outputs": [
    {
     "data": {
      "text/plain": [
       "<pymongo.results.InsertManyResult at 0x1b0b6ed9450>"
      ]
     },
     "execution_count": 3,
     "metadata": {},
     "output_type": "execute_result"
    }
   ],
   "source": [
    "df = tabs[1]\n",
    "cid = list(df.columns.values)[0]\n",
    "cname = list(df.columns.values)[1]\n",
    "\n",
    "df.columns.values[0] = \"Codigo\"\n",
    "df.columns.values[1] = \"Atividade\"\n",
    "df.columns.values[2] = \"Valor\"\n",
    "df.columns.values[3] = \"Porc\"\n",
    "df[\"Classe\"] = cname\n",
    "df[\"Subclasse\"] = \"\"\n",
    "\n",
    "df['Codigo'] = df['Codigo'].fillna(\"\")\n",
    "df['Valor'] = df['Valor'].fillna(\"\")\n",
    "df['Porc'] = df['Porc'].fillna(\"\")\n",
    "\n",
    "doc = df.to_json(orient = \"records\")\n",
    "doc = json.loads(doc)\n",
    "\n",
    "conn = dbconn.replace(\"<username>\", dbuser).replace(\"<password>\", dbpass)\n",
    "rs = pymongo.MongoClient(conn)\n",
    "\n",
    "db = rs.legalfees\n",
    "col = db.fees\n",
    "col.insert_many(doc)\n",
    "\n",
    "display(df)"
   ]
  },
  {
   "cell_type": "code",
   "execution_count": 6,
   "metadata": {},
   "outputs": [
    {
     "data": {
      "text/html": [
       "<div>\n",
       "<style scoped>\n",
       "    .dataframe tbody tr th:only-of-type {\n",
       "        vertical-align: middle;\n",
       "    }\n",
       "\n",
       "    .dataframe tbody tr th {\n",
       "        vertical-align: top;\n",
       "    }\n",
       "\n",
       "    .dataframe thead th {\n",
       "        text-align: right;\n",
       "    }\n",
       "</style>\n",
       "<table border=\"1\" class=\"dataframe\">\n",
       "  <thead>\n",
       "    <tr style=\"text-align: right;\">\n",
       "      <th></th>\n",
       "      <th>Codigo</th>\n",
       "      <th>Atividade</th>\n",
       "      <th>Valor</th>\n",
       "      <th>Porc</th>\n",
       "      <th>Classe</th>\n",
       "      <th>Subclasse</th>\n",
       "    </tr>\n",
       "  </thead>\n",
       "  <tbody>\n",
       "    <tr>\n",
       "      <th>0</th>\n",
       "      <td>3.1</td>\n",
       "      <td>Inicial ou contestação e audiência</td>\n",
       "      <td>R$  1.156,23</td>\n",
       "      <td>20%</td>\n",
       "      <td>Atividade</td>\n",
       "      <td></td>\n",
       "    </tr>\n",
       "    <tr>\n",
       "      <th>1</th>\n",
       "      <td>3.2</td>\n",
       "      <td>Atuação em segunda instância</td>\n",
       "      <td>R$  867,18</td>\n",
       "      <td>10%</td>\n",
       "      <td>Atividade</td>\n",
       "      <td></td>\n",
       "    </tr>\n",
       "    <tr>\n",
       "      <th>2</th>\n",
       "      <td>3.3</td>\n",
       "      <td>Sustentação oral perante turmas recursais</td>\n",
       "      <td>R$  867,18</td>\n",
       "      <td>10%</td>\n",
       "      <td>Atividade</td>\n",
       "      <td></td>\n",
       "    </tr>\n",
       "  </tbody>\n",
       "</table>\n",
       "</div>"
      ],
      "text/plain": [
       "   Codigo                                  Atividade         Valor Porc  \\\n",
       "0     3.1         Inicial ou contestação e audiência  R$  1.156,23  20%   \n",
       "1     3.2               Atuação em segunda instância    R$  867,18  10%   \n",
       "2     3.3  Sustentação oral perante turmas recursais    R$  867,18  10%   \n",
       "\n",
       "      Classe Subclasse  \n",
       "0  Atividade            \n",
       "1  Atividade            \n",
       "2  Atividade            "
      ]
     },
     "metadata": {},
     "output_type": "display_data"
    }
   ],
   "source": [
    "df = tabs[2]\n",
    "cid = list(df.columns.values)[0]\n",
    "cname = list(df.columns.values)[1]\n",
    "\n",
    "df.columns.values[0] = \"Codigo\"\n",
    "df.columns.values[1] = \"Atividade\"\n",
    "df.columns.values[2] = \"Valor\"\n",
    "df.columns.values[3] = \"Porc\"\n",
    "df[\"Classe\"] = cname\n",
    "df[\"Subclasse\"] = \"\"\n",
    "\n",
    "df['Codigo'] = df['Codigo'].fillna(\"\")\n",
    "df['Valor'] = df['Valor'].fillna(\"\")\n",
    "df['Porc'] = df['Porc'].fillna(\"\")\n",
    "\n",
    "doc = df.to_json(orient = \"records\")\n",
    "doc = json.loads(doc)\n",
    "\n",
    "conn = dbconn.replace(\"<username>\", dbuser).replace(\"<password>\", dbpass)\n",
    "rs = pymongo.MongoClient(conn)\n",
    "\n",
    "db = rs.legalfees\n",
    "col = db.fees\n",
    "col.insert_many(doc)\n",
    "\n",
    "display(df)"
   ]
  },
  {
   "cell_type": "code",
   "execution_count": null,
   "metadata": {},
   "outputs": [],
   "source": []
  }
 ],
 "metadata": {
  "kernelspec": {
   "display_name": "Python 3 (ipykernel)",
   "language": "python",
   "name": "python3"
  },
  "language_info": {
   "codemirror_mode": {
    "name": "ipython",
    "version": 3
   },
   "file_extension": ".py",
   "mimetype": "text/x-python",
   "name": "python",
   "nbconvert_exporter": "python",
   "pygments_lexer": "ipython3",
   "version": "3.10.5"
  }
 },
 "nbformat": 4,
 "nbformat_minor": 4
}
