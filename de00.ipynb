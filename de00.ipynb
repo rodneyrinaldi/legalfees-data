{
 "cells": [
  {
   "cell_type": "code",
   "execution_count": 25,
   "metadata": {},
   "outputs": [
    {
     "name": "stdout",
     "output_type": "stream",
     "text": [
      "Requirement already satisfied: pandas in c:\\users\\rodney\\appdata\\local\\programs\\python\\python310\\lib\\site-packages (1.5.2)\n",
      "Requirement already satisfied: numpy>=1.21.0 in c:\\users\\rodney\\appdata\\local\\programs\\python\\python310\\lib\\site-packages (from pandas) (1.23.5)\n",
      "Requirement already satisfied: python-dateutil>=2.8.1 in c:\\users\\rodney\\appdata\\local\\programs\\python\\python310\\lib\\site-packages (from pandas) (2.8.2)\n",
      "Requirement already satisfied: pytz>=2020.1 in c:\\users\\rodney\\appdata\\local\\programs\\python\\python310\\lib\\site-packages (from pandas) (2022.4)\n",
      "Requirement already satisfied: six>=1.5 in c:\\users\\rodney\\appdata\\local\\programs\\python\\python310\\lib\\site-packages (from python-dateutil>=2.8.1->pandas) (1.16.0)\n",
      "Requirement already satisfied: numpy in c:\\users\\rodney\\appdata\\local\\programs\\python\\python310\\lib\\site-packages (1.23.5)\n",
      "Requirement already satisfied: tabula in c:\\users\\rodney\\appdata\\local\\programs\\python\\python310\\lib\\site-packages (1.0.5)\n",
      "Requirement already satisfied: setuptools in c:\\users\\rodney\\appdata\\local\\programs\\python\\python310\\lib\\site-packages (from tabula) (58.1.0)\n",
      "Requirement already satisfied: numpy in c:\\users\\rodney\\appdata\\local\\programs\\python\\python310\\lib\\site-packages (from tabula) (1.23.5)\n",
      "Requirement already satisfied: pymongo in c:\\users\\rodney\\appdata\\local\\programs\\python\\python310\\lib\\site-packages (4.3.3)\n",
      "Requirement already satisfied: dnspython<3.0.0,>=1.16.0 in c:\\users\\rodney\\appdata\\local\\programs\\python\\python310\\lib\\site-packages (from pymongo) (2.2.1)\n"
     ]
    }
   ],
   "source": [
    "!pip install pandas \n",
    "!pip install numpy\n",
    "!pip install tabula\n",
    "!pip install pymongo\n",
    "\n",
    "import pandas as pd\n",
    "import numpy as np\n",
    "import tabula\n",
    "import pymongo\n",
    "import json\n",
    "\n",
    "#import time\n",
    "#import datetime\n",
    "#import uuid\n",
    "#import random \n"
   ]
  },
  {
   "cell_type": "code",
   "execution_count": 8,
   "metadata": {},
   "outputs": [],
   "source": []
  },
  {
   "cell_type": "code",
   "execution_count": null,
   "metadata": {},
   "outputs": [],
   "source": []
  }
 ],
 "metadata": {
  "kernelspec": {
   "display_name": "Python 3 (ipykernel)",
   "language": "python",
   "name": "python3"
  },
  "language_info": {
   "codemirror_mode": {
    "name": "ipython",
    "version": 3
   },
   "file_extension": ".py",
   "mimetype": "text/x-python",
   "name": "python",
   "nbconvert_exporter": "python",
   "pygments_lexer": "ipython3",
   "version": "3.10.5"
  }
 },
 "nbformat": 4,
 "nbformat_minor": 4
}
