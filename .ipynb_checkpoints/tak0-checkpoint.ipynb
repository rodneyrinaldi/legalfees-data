{
 "cells": [
  {
   "cell_type": "code",
   "execution_count": 9,
   "metadata": {},
   "outputs": [
    {
     "name": "stdout",
     "output_type": "stream",
     "text": [
      "2022-12-29 00:54:54.183889\n",
      "-\n",
      "creating target dataframe\n",
      "saving target dataframe\n",
      "-\n",
      "2022-12-29 00:54:54.193893\n"
     ]
    },
    {
     "data": {
      "text/html": [
       "<div>\n",
       "<style scoped>\n",
       "    .dataframe tbody tr th:only-of-type {\n",
       "        vertical-align: middle;\n",
       "    }\n",
       "\n",
       "    .dataframe tbody tr th {\n",
       "        vertical-align: top;\n",
       "    }\n",
       "\n",
       "    .dataframe thead th {\n",
       "        text-align: right;\n",
       "    }\n",
       "</style>\n",
       "<table border=\"1\" class=\"dataframe\">\n",
       "  <thead>\n",
       "    <tr style=\"text-align: right;\">\n",
       "      <th></th>\n",
       "      <th>codigo</th>\n",
       "      <th>atividade</th>\n",
       "      <th>valor</th>\n",
       "      <th>porcentagem</th>\n",
       "      <th>sequencial</th>\n",
       "      <th>materia</th>\n",
       "      <th>classe</th>\n",
       "      <th>tipo</th>\n",
       "    </tr>\n",
       "  </thead>\n",
       "  <tbody>\n",
       "  </tbody>\n",
       "</table>\n",
       "</div>"
      ],
      "text/plain": [
       "Empty DataFrame\n",
       "Columns: [codigo, atividade, valor, porcentagem, sequencial, materia, classe, tipo]\n",
       "Index: []"
      ]
     },
     "metadata": {},
     "output_type": "display_data"
    }
   ],
   "source": [
    "import pandas as pd\n",
    "\n",
    "print(pd.Timestamp.now() )\n",
    "print(\"-\")\n",
    "\n",
    "print(\"creating target dataframe\")\n",
    "columns = {\"codigo\":pd.Series(dtype='str'),\"atividade\":pd.Series(dtype='str'),\"valor\":pd.Series(dtype='str'),\"porcentagem\":pd.Series(dtype='str'),\"sequencial\":pd.Series(dtype='str'),\"materia\":pd.Series(dtype='str'),\"classe\":pd.Series(dtype='str'),\"tipo\":pd.Series(dtype='str')}\n",
    "newdf = pd.DataFrame(data=columns)\n",
    "\n",
    "print(\"saving target dataframe\")\n",
    "newdf.to_pickle(\"newdf.data\")\n",
    "\n",
    "print(\"-\")\n",
    "print(pd.Timestamp.now() )\n",
    "\n",
    "\n",
    "pd.set_option(\"display.max_rows\", None, \"display.max_columns\", None)\n",
    "display(newdf)\n"
   ]
  },
  {
   "cell_type": "code",
   "execution_count": null,
   "metadata": {},
   "outputs": [],
   "source": []
  }
 ],
 "metadata": {
  "kernelspec": {
   "display_name": "Python 3 (ipykernel)",
   "language": "python",
   "name": "python3"
  },
  "language_info": {
   "codemirror_mode": {
    "name": "ipython",
    "version": 3
   },
   "file_extension": ".py",
   "mimetype": "text/x-python",
   "name": "python",
   "nbconvert_exporter": "python",
   "pygments_lexer": "ipython3",
   "version": "3.10.5"
  }
 },
 "nbformat": 4,
 "nbformat_minor": 4
}
