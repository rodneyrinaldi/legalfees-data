{
 "cells": [
  {
   "cell_type": "code",
   "execution_count": 40,
   "metadata": {},
   "outputs": [
    {
     "name": "stdout",
     "output_type": "stream",
     "text": [
      "51\n"
     ]
    }
   ],
   "source": [
    "import tabula\n",
    "import pandas as pd\n",
    "import numpy as np\n",
    "\n",
    "#tabs = tabula.read_pdf(\"https://www.oabsp.org.br/noticias/2019/servicos/tabelas/tabela-de-honorarios/\", \n",
    "#                       pages=\"5-21\")\n",
    "tabs = tabula.read_pdf(\"https://www.oabsp.org.br/noticias/2019/servicos/tabelas/tabela-de-honorarios/\", \n",
    "                       pages=\"all\", lattice=True, multiple_tables=True)\n",
    "#tabs = tabula.read_pdf(\"https://www.oabsp.org.br/noticias/2019/servicos/tabelas/tabela-de-honorarios/\", \n",
    "#                       pages=\"all\", guess=\"false\")\n",
    "\n",
    "print(len(tabs))"
   ]
  },
  {
   "cell_type": "code",
   "execution_count": 41,
   "metadata": {},
   "outputs": [
    {
     "name": "stdout",
     "output_type": "stream",
     "text": [
      "151\n"
     ]
    }
   ],
   "source": [
    "i = 100\n",
    "#df = pd.DataFrame()\n",
    "\n",
    "for tab in tabs: \n",
    "    i = i +1 \n",
    "    #df = pd.concat([df, tab])\n",
    "    #display(df)\n",
    "    #display(i,tab)    \n",
    "    #js = tab.to_json(orient = \"records\")\n",
    "    #display(js)\n",
    "    #tab.to_json(\"file\" + str(i) + \".json\")\n",
    "    #tab.to_csv(\"file\" + str(i) + \".csv\", encoding='utf-8')\n",
    "\n",
    "print(i)"
   ]
  },
  {
   "cell_type": "code",
   "execution_count": null,
   "metadata": {},
   "outputs": [],
   "source": []
  }
 ],
 "metadata": {
  "kernelspec": {
   "display_name": "Python 3 (ipykernel)",
   "language": "python",
   "name": "python3"
  },
  "language_info": {
   "codemirror_mode": {
    "name": "ipython",
    "version": 3
   },
   "file_extension": ".py",
   "mimetype": "text/x-python",
   "name": "python",
   "nbconvert_exporter": "python",
   "pygments_lexer": "ipython3",
   "version": "3.9.13"
  }
 },
 "nbformat": 4,
 "nbformat_minor": 4
}
